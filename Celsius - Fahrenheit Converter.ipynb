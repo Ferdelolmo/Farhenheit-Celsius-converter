{
 "cells": [
  {
   "cell_type": "code",
   "execution_count": 7,
   "metadata": {},
   "outputs": [
    {
     "name": "stdout",
     "output_type": "stream",
     "text": [
      "Convert from celcius to fahrenheit: 30\n",
      " 30 º C =  86.0 º F\n"
     ]
    }
   ],
   "source": [
    "celsius=int(input('Convert from celcius to fahrenheit: '))\n",
    "fahrenheit= ((9/5)*celsius +32)\n",
    "print('', celsius, 'º C = ',fahrenheit, 'º F')"
   ]
  },
  {
   "cell_type": "code",
   "execution_count": 13,
   "metadata": {
    "scrolled": true
   },
   "outputs": [
    {
     "name": "stdout",
     "output_type": "stream",
     "text": [
      "Convert from F to C: 86\n",
      " 86 º F =  30.0 º C\n"
     ]
    }
   ],
   "source": [
    "fahrenheit=int(input('Convert from F to C: '))\n",
    "celsius= ((fahrenheit -32)*5/9)\n",
    "print('', fahrenheit, 'º F = ', celsius, 'º C')"
   ]
  },
  {
   "cell_type": "code",
   "execution_count": null,
   "metadata": {},
   "outputs": [],
   "source": []
  }
 ],
 "metadata": {
  "kernelspec": {
   "display_name": "Python 3",
   "language": "python",
   "name": "python3"
  }
 },
 "nbformat": 4,
 "nbformat_minor": 2
}
